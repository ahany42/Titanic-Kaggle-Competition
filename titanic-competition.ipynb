{
 "cells": [
  {
   "cell_type": "markdown",
   "id": "99ab7eae",
   "metadata": {
    "papermill": {
     "duration": 0.00649,
     "end_time": "2025-03-11T23:17:25.924377",
     "exception": false,
     "start_time": "2025-03-11T23:17:25.917887",
     "status": "completed"
    },
    "tags": []
   },
   "source": [
    "# **Importing**"
   ]
  },
  {
   "cell_type": "code",
   "execution_count": 1,
   "id": "c76084a7",
   "metadata": {
    "_cell_guid": "b1076dfc-b9ad-4769-8c92-a6c4dae69d19",
    "_uuid": "8f2839f25d086af736a60e9eeb907d3b93b6e0e5",
    "execution": {
     "iopub.execute_input": "2025-03-11T23:17:25.936796Z",
     "iopub.status.busy": "2025-03-11T23:17:25.936412Z",
     "iopub.status.idle": "2025-03-11T23:17:29.338803Z",
     "shell.execute_reply": "2025-03-11T23:17:29.337608Z"
    },
    "papermill": {
     "duration": 3.410682,
     "end_time": "2025-03-11T23:17:29.340606",
     "exception": false,
     "start_time": "2025-03-11T23:17:25.929924",
     "status": "completed"
    },
    "tags": []
   },
   "outputs": [
    {
     "name": "stdout",
     "output_type": "stream",
     "text": [
      "/kaggle/input/titanic/train.csv\n",
      "/kaggle/input/titanic/test.csv\n",
      "/kaggle/input/titanic/gender_submission.csv\n"
     ]
    }
   ],
   "source": [
    "#\n",
    "import numpy as np \n",
    "import pandas as pd \n",
    "import seaborn as sns\n",
    "import matplotlib.pyplot as plt\n",
    "from sklearn.model_selection import train_test_split\n",
    "from sklearn.linear_model import LogisticRegression\n",
    "from sklearn.ensemble import RandomForestClassifier, GradientBoostingClassifier, HistGradientBoostingClassifier\n",
    "from sklearn.svm import SVC\n",
    "from sklearn.neighbors import KNeighborsClassifier\n",
    "from sklearn.tree import DecisionTreeClassifier\n",
    "from sklearn.naive_bayes import GaussianNB\n",
    "from sklearn.metrics import confusion_matrix, classification_report, accuracy_score\n",
    "import os\n",
    "for dirname, _, filenames in os.walk('/kaggle/input'):\n",
    "    for filename in filenames:\n",
    "        print(os.path.join(dirname, filename))"
   ]
  },
  {
   "cell_type": "markdown",
   "id": "a6ffcf24",
   "metadata": {
    "papermill": {
     "duration": 0.005843,
     "end_time": "2025-03-11T23:17:29.352645",
     "exception": false,
     "start_time": "2025-03-11T23:17:29.346802",
     "status": "completed"
    },
    "tags": []
   },
   "source": [
    "# **Reading Dataset**"
   ]
  },
  {
   "cell_type": "code",
   "execution_count": 2,
   "id": "2ea0e529",
   "metadata": {
    "execution": {
     "iopub.execute_input": "2025-03-11T23:17:29.366016Z",
     "iopub.status.busy": "2025-03-11T23:17:29.365506Z",
     "iopub.status.idle": "2025-03-11T23:17:29.411799Z",
     "shell.execute_reply": "2025-03-11T23:17:29.410764Z"
    },
    "papermill": {
     "duration": 0.055523,
     "end_time": "2025-03-11T23:17:29.413788",
     "exception": false,
     "start_time": "2025-03-11T23:17:29.358265",
     "status": "completed"
    },
    "tags": []
   },
   "outputs": [],
   "source": [
    "train_data_filepath = '/kaggle/input/titanic/train.csv'\n",
    "test_data_filepath = '/kaggle/input/titanic/test.csv'\n",
    "\n",
    "train_data = pd.read_csv(train_data_filepath)\n",
    "test_data = pd.read_csv(test_data_filepath)"
   ]
  },
  {
   "cell_type": "markdown",
   "id": "4617a2ca",
   "metadata": {
    "papermill": {
     "duration": 0.005422,
     "end_time": "2025-03-11T23:17:29.425109",
     "exception": false,
     "start_time": "2025-03-11T23:17:29.419687",
     "status": "completed"
    },
    "tags": []
   },
   "source": [
    "# **Data Inspection**"
   ]
  },
  {
   "cell_type": "code",
   "execution_count": 3,
   "id": "15ed33d5",
   "metadata": {
    "execution": {
     "iopub.execute_input": "2025-03-11T23:17:29.439956Z",
     "iopub.status.busy": "2025-03-11T23:17:29.439576Z",
     "iopub.status.idle": "2025-03-11T23:17:29.470993Z",
     "shell.execute_reply": "2025-03-11T23:17:29.469767Z"
    },
    "papermill": {
     "duration": 0.042096,
     "end_time": "2025-03-11T23:17:29.472892",
     "exception": false,
     "start_time": "2025-03-11T23:17:29.430796",
     "status": "completed"
    },
    "tags": []
   },
   "outputs": [
    {
     "data": {
      "text/html": [
       "<div>\n",
       "<style scoped>\n",
       "    .dataframe tbody tr th:only-of-type {\n",
       "        vertical-align: middle;\n",
       "    }\n",
       "\n",
       "    .dataframe tbody tr th {\n",
       "        vertical-align: top;\n",
       "    }\n",
       "\n",
       "    .dataframe thead th {\n",
       "        text-align: right;\n",
       "    }\n",
       "</style>\n",
       "<table border=\"1\" class=\"dataframe\">\n",
       "  <thead>\n",
       "    <tr style=\"text-align: right;\">\n",
       "      <th></th>\n",
       "      <th>PassengerId</th>\n",
       "      <th>Survived</th>\n",
       "      <th>Pclass</th>\n",
       "      <th>Name</th>\n",
       "      <th>Sex</th>\n",
       "      <th>Age</th>\n",
       "      <th>SibSp</th>\n",
       "      <th>Parch</th>\n",
       "      <th>Ticket</th>\n",
       "      <th>Fare</th>\n",
       "      <th>Cabin</th>\n",
       "      <th>Embarked</th>\n",
       "    </tr>\n",
       "  </thead>\n",
       "  <tbody>\n",
       "    <tr>\n",
       "      <th>0</th>\n",
       "      <td>1</td>\n",
       "      <td>0</td>\n",
       "      <td>3</td>\n",
       "      <td>Braund, Mr. Owen Harris</td>\n",
       "      <td>male</td>\n",
       "      <td>22.0</td>\n",
       "      <td>1</td>\n",
       "      <td>0</td>\n",
       "      <td>A/5 21171</td>\n",
       "      <td>7.2500</td>\n",
       "      <td>NaN</td>\n",
       "      <td>S</td>\n",
       "    </tr>\n",
       "    <tr>\n",
       "      <th>1</th>\n",
       "      <td>2</td>\n",
       "      <td>1</td>\n",
       "      <td>1</td>\n",
       "      <td>Cumings, Mrs. John Bradley (Florence Briggs Th...</td>\n",
       "      <td>female</td>\n",
       "      <td>38.0</td>\n",
       "      <td>1</td>\n",
       "      <td>0</td>\n",
       "      <td>PC 17599</td>\n",
       "      <td>71.2833</td>\n",
       "      <td>C85</td>\n",
       "      <td>C</td>\n",
       "    </tr>\n",
       "    <tr>\n",
       "      <th>2</th>\n",
       "      <td>3</td>\n",
       "      <td>1</td>\n",
       "      <td>3</td>\n",
       "      <td>Heikkinen, Miss. Laina</td>\n",
       "      <td>female</td>\n",
       "      <td>26.0</td>\n",
       "      <td>0</td>\n",
       "      <td>0</td>\n",
       "      <td>STON/O2. 3101282</td>\n",
       "      <td>7.9250</td>\n",
       "      <td>NaN</td>\n",
       "      <td>S</td>\n",
       "    </tr>\n",
       "    <tr>\n",
       "      <th>3</th>\n",
       "      <td>4</td>\n",
       "      <td>1</td>\n",
       "      <td>1</td>\n",
       "      <td>Futrelle, Mrs. Jacques Heath (Lily May Peel)</td>\n",
       "      <td>female</td>\n",
       "      <td>35.0</td>\n",
       "      <td>1</td>\n",
       "      <td>0</td>\n",
       "      <td>113803</td>\n",
       "      <td>53.1000</td>\n",
       "      <td>C123</td>\n",
       "      <td>S</td>\n",
       "    </tr>\n",
       "    <tr>\n",
       "      <th>4</th>\n",
       "      <td>5</td>\n",
       "      <td>0</td>\n",
       "      <td>3</td>\n",
       "      <td>Allen, Mr. William Henry</td>\n",
       "      <td>male</td>\n",
       "      <td>35.0</td>\n",
       "      <td>0</td>\n",
       "      <td>0</td>\n",
       "      <td>373450</td>\n",
       "      <td>8.0500</td>\n",
       "      <td>NaN</td>\n",
       "      <td>S</td>\n",
       "    </tr>\n",
       "  </tbody>\n",
       "</table>\n",
       "</div>"
      ],
      "text/plain": [
       "   PassengerId  Survived  Pclass  \\\n",
       "0            1         0       3   \n",
       "1            2         1       1   \n",
       "2            3         1       3   \n",
       "3            4         1       1   \n",
       "4            5         0       3   \n",
       "\n",
       "                                                Name     Sex   Age  SibSp  \\\n",
       "0                            Braund, Mr. Owen Harris    male  22.0      1   \n",
       "1  Cumings, Mrs. John Bradley (Florence Briggs Th...  female  38.0      1   \n",
       "2                             Heikkinen, Miss. Laina  female  26.0      0   \n",
       "3       Futrelle, Mrs. Jacques Heath (Lily May Peel)  female  35.0      1   \n",
       "4                           Allen, Mr. William Henry    male  35.0      0   \n",
       "\n",
       "   Parch            Ticket     Fare Cabin Embarked  \n",
       "0      0         A/5 21171   7.2500   NaN        S  \n",
       "1      0          PC 17599  71.2833   C85        C  \n",
       "2      0  STON/O2. 3101282   7.9250   NaN        S  \n",
       "3      0            113803  53.1000  C123        S  \n",
       "4      0            373450   8.0500   NaN        S  "
      ]
     },
     "execution_count": 3,
     "metadata": {},
     "output_type": "execute_result"
    }
   ],
   "source": [
    "train_data.head()"
   ]
  },
  {
   "cell_type": "code",
   "execution_count": 4,
   "id": "5d5d5b43",
   "metadata": {
    "execution": {
     "iopub.execute_input": "2025-03-11T23:17:29.485869Z",
     "iopub.status.busy": "2025-03-11T23:17:29.485535Z",
     "iopub.status.idle": "2025-03-11T23:17:29.514469Z",
     "shell.execute_reply": "2025-03-11T23:17:29.513271Z"
    },
    "papermill": {
     "duration": 0.037388,
     "end_time": "2025-03-11T23:17:29.516215",
     "exception": false,
     "start_time": "2025-03-11T23:17:29.478827",
     "status": "completed"
    },
    "tags": []
   },
   "outputs": [
    {
     "name": "stdout",
     "output_type": "stream",
     "text": [
      "<class 'pandas.core.frame.DataFrame'>\n",
      "RangeIndex: 891 entries, 0 to 890\n",
      "Data columns (total 12 columns):\n",
      " #   Column       Non-Null Count  Dtype  \n",
      "---  ------       --------------  -----  \n",
      " 0   PassengerId  891 non-null    int64  \n",
      " 1   Survived     891 non-null    int64  \n",
      " 2   Pclass       891 non-null    int64  \n",
      " 3   Name         891 non-null    object \n",
      " 4   Sex          891 non-null    object \n",
      " 5   Age          714 non-null    float64\n",
      " 6   SibSp        891 non-null    int64  \n",
      " 7   Parch        891 non-null    int64  \n",
      " 8   Ticket       891 non-null    object \n",
      " 9   Fare         891 non-null    float64\n",
      " 10  Cabin        204 non-null    object \n",
      " 11  Embarked     889 non-null    object \n",
      "dtypes: float64(2), int64(5), object(5)\n",
      "memory usage: 83.7+ KB\n"
     ]
    }
   ],
   "source": [
    "train_data.info()"
   ]
  },
  {
   "cell_type": "code",
   "execution_count": 5,
   "id": "39092aff",
   "metadata": {
    "execution": {
     "iopub.execute_input": "2025-03-11T23:17:29.529602Z",
     "iopub.status.busy": "2025-03-11T23:17:29.529181Z",
     "iopub.status.idle": "2025-03-11T23:17:29.557650Z",
     "shell.execute_reply": "2025-03-11T23:17:29.556516Z"
    },
    "papermill": {
     "duration": 0.037096,
     "end_time": "2025-03-11T23:17:29.559506",
     "exception": false,
     "start_time": "2025-03-11T23:17:29.522410",
     "status": "completed"
    },
    "tags": []
   },
   "outputs": [
    {
     "data": {
      "text/html": [
       "<div>\n",
       "<style scoped>\n",
       "    .dataframe tbody tr th:only-of-type {\n",
       "        vertical-align: middle;\n",
       "    }\n",
       "\n",
       "    .dataframe tbody tr th {\n",
       "        vertical-align: top;\n",
       "    }\n",
       "\n",
       "    .dataframe thead th {\n",
       "        text-align: right;\n",
       "    }\n",
       "</style>\n",
       "<table border=\"1\" class=\"dataframe\">\n",
       "  <thead>\n",
       "    <tr style=\"text-align: right;\">\n",
       "      <th></th>\n",
       "      <th>PassengerId</th>\n",
       "      <th>Survived</th>\n",
       "      <th>Pclass</th>\n",
       "      <th>Age</th>\n",
       "      <th>SibSp</th>\n",
       "      <th>Parch</th>\n",
       "      <th>Fare</th>\n",
       "    </tr>\n",
       "  </thead>\n",
       "  <tbody>\n",
       "    <tr>\n",
       "      <th>count</th>\n",
       "      <td>891.000000</td>\n",
       "      <td>891.000000</td>\n",
       "      <td>891.000000</td>\n",
       "      <td>714.000000</td>\n",
       "      <td>891.000000</td>\n",
       "      <td>891.000000</td>\n",
       "      <td>891.000000</td>\n",
       "    </tr>\n",
       "    <tr>\n",
       "      <th>mean</th>\n",
       "      <td>446.000000</td>\n",
       "      <td>0.383838</td>\n",
       "      <td>2.308642</td>\n",
       "      <td>29.699118</td>\n",
       "      <td>0.523008</td>\n",
       "      <td>0.381594</td>\n",
       "      <td>32.204208</td>\n",
       "    </tr>\n",
       "    <tr>\n",
       "      <th>std</th>\n",
       "      <td>257.353842</td>\n",
       "      <td>0.486592</td>\n",
       "      <td>0.836071</td>\n",
       "      <td>14.526497</td>\n",
       "      <td>1.102743</td>\n",
       "      <td>0.806057</td>\n",
       "      <td>49.693429</td>\n",
       "    </tr>\n",
       "    <tr>\n",
       "      <th>min</th>\n",
       "      <td>1.000000</td>\n",
       "      <td>0.000000</td>\n",
       "      <td>1.000000</td>\n",
       "      <td>0.420000</td>\n",
       "      <td>0.000000</td>\n",
       "      <td>0.000000</td>\n",
       "      <td>0.000000</td>\n",
       "    </tr>\n",
       "    <tr>\n",
       "      <th>25%</th>\n",
       "      <td>223.500000</td>\n",
       "      <td>0.000000</td>\n",
       "      <td>2.000000</td>\n",
       "      <td>20.125000</td>\n",
       "      <td>0.000000</td>\n",
       "      <td>0.000000</td>\n",
       "      <td>7.910400</td>\n",
       "    </tr>\n",
       "    <tr>\n",
       "      <th>50%</th>\n",
       "      <td>446.000000</td>\n",
       "      <td>0.000000</td>\n",
       "      <td>3.000000</td>\n",
       "      <td>28.000000</td>\n",
       "      <td>0.000000</td>\n",
       "      <td>0.000000</td>\n",
       "      <td>14.454200</td>\n",
       "    </tr>\n",
       "    <tr>\n",
       "      <th>75%</th>\n",
       "      <td>668.500000</td>\n",
       "      <td>1.000000</td>\n",
       "      <td>3.000000</td>\n",
       "      <td>38.000000</td>\n",
       "      <td>1.000000</td>\n",
       "      <td>0.000000</td>\n",
       "      <td>31.000000</td>\n",
       "    </tr>\n",
       "    <tr>\n",
       "      <th>max</th>\n",
       "      <td>891.000000</td>\n",
       "      <td>1.000000</td>\n",
       "      <td>3.000000</td>\n",
       "      <td>80.000000</td>\n",
       "      <td>8.000000</td>\n",
       "      <td>6.000000</td>\n",
       "      <td>512.329200</td>\n",
       "    </tr>\n",
       "  </tbody>\n",
       "</table>\n",
       "</div>"
      ],
      "text/plain": [
       "       PassengerId    Survived      Pclass         Age       SibSp  \\\n",
       "count   891.000000  891.000000  891.000000  714.000000  891.000000   \n",
       "mean    446.000000    0.383838    2.308642   29.699118    0.523008   \n",
       "std     257.353842    0.486592    0.836071   14.526497    1.102743   \n",
       "min       1.000000    0.000000    1.000000    0.420000    0.000000   \n",
       "25%     223.500000    0.000000    2.000000   20.125000    0.000000   \n",
       "50%     446.000000    0.000000    3.000000   28.000000    0.000000   \n",
       "75%     668.500000    1.000000    3.000000   38.000000    1.000000   \n",
       "max     891.000000    1.000000    3.000000   80.000000    8.000000   \n",
       "\n",
       "            Parch        Fare  \n",
       "count  891.000000  891.000000  \n",
       "mean     0.381594   32.204208  \n",
       "std      0.806057   49.693429  \n",
       "min      0.000000    0.000000  \n",
       "25%      0.000000    7.910400  \n",
       "50%      0.000000   14.454200  \n",
       "75%      0.000000   31.000000  \n",
       "max      6.000000  512.329200  "
      ]
     },
     "execution_count": 5,
     "metadata": {},
     "output_type": "execute_result"
    }
   ],
   "source": [
    "train_data.describe()"
   ]
  },
  {
   "cell_type": "code",
   "execution_count": 6,
   "id": "263ae00e",
   "metadata": {
    "execution": {
     "iopub.execute_input": "2025-03-11T23:17:29.573009Z",
     "iopub.status.busy": "2025-03-11T23:17:29.572636Z",
     "iopub.status.idle": "2025-03-11T23:17:29.580555Z",
     "shell.execute_reply": "2025-03-11T23:17:29.579362Z"
    },
    "papermill": {
     "duration": 0.016557,
     "end_time": "2025-03-11T23:17:29.582211",
     "exception": false,
     "start_time": "2025-03-11T23:17:29.565654",
     "status": "completed"
    },
    "tags": []
   },
   "outputs": [
    {
     "data": {
      "text/plain": [
       "PassengerId      0\n",
       "Survived         0\n",
       "Pclass           0\n",
       "Name             0\n",
       "Sex              0\n",
       "Age            177\n",
       "SibSp            0\n",
       "Parch            0\n",
       "Ticket           0\n",
       "Fare             0\n",
       "Cabin          687\n",
       "Embarked         2\n",
       "dtype: int64"
      ]
     },
     "execution_count": 6,
     "metadata": {},
     "output_type": "execute_result"
    }
   ],
   "source": [
    "train_data.isna().sum()"
   ]
  },
  {
   "cell_type": "code",
   "execution_count": 7,
   "id": "949bd480",
   "metadata": {
    "execution": {
     "iopub.execute_input": "2025-03-11T23:17:29.596005Z",
     "iopub.status.busy": "2025-03-11T23:17:29.595662Z",
     "iopub.status.idle": "2025-03-11T23:17:29.610003Z",
     "shell.execute_reply": "2025-03-11T23:17:29.609161Z"
    },
    "papermill": {
     "duration": 0.023333,
     "end_time": "2025-03-11T23:17:29.611900",
     "exception": false,
     "start_time": "2025-03-11T23:17:29.588567",
     "status": "completed"
    },
    "tags": []
   },
   "outputs": [],
   "source": [
    "age = train_data['Age']\n",
    "train_data['Age'] = age.fillna(age.mean()) \n",
    "age = test_data['Age']\n",
    "test_data['Age'] = age.fillna(age.mean()) \n",
    "\n",
    "cabin = train_data['Cabin']\n",
    "train_data['Cabin'] = cabin.fillna(cabin.mode()[0])  \n",
    "cabin = test_data['Cabin']\n",
    "test_data['Cabin'] = cabin.fillna(cabin.mode()[0])  \n",
    "\n",
    "embarked = train_data['Embarked']\n",
    "train_data['Embarked']= embarked.fillna(embarked.mode()[0])\n",
    "embarked = test_data['Embarked']\n",
    "test_data['Embarked']= embarked.fillna(embarked.mode()[0])\n",
    "\n",
    "sex = test_data['Sex']\n",
    "test_data['Sex']= sex.fillna(sex.mode()[0])\n",
    "\n",
    "fare = test_data['Fare']\n",
    "test_data['Fare']= fare.fillna(fare.mode()[0])"
   ]
  },
  {
   "cell_type": "code",
   "execution_count": 8,
   "id": "7dc71bb3",
   "metadata": {
    "execution": {
     "iopub.execute_input": "2025-03-11T23:17:29.625800Z",
     "iopub.status.busy": "2025-03-11T23:17:29.625449Z",
     "iopub.status.idle": "2025-03-11T23:17:29.632958Z",
     "shell.execute_reply": "2025-03-11T23:17:29.632046Z"
    },
    "papermill": {
     "duration": 0.016344,
     "end_time": "2025-03-11T23:17:29.634615",
     "exception": false,
     "start_time": "2025-03-11T23:17:29.618271",
     "status": "completed"
    },
    "tags": []
   },
   "outputs": [
    {
     "data": {
      "text/plain": [
       "PassengerId    0\n",
       "Pclass         0\n",
       "Name           0\n",
       "Sex            0\n",
       "Age            0\n",
       "SibSp          0\n",
       "Parch          0\n",
       "Ticket         0\n",
       "Fare           0\n",
       "Cabin          0\n",
       "Embarked       0\n",
       "dtype: int64"
      ]
     },
     "execution_count": 8,
     "metadata": {},
     "output_type": "execute_result"
    }
   ],
   "source": [
    "test_data.isna().sum()"
   ]
  },
  {
   "cell_type": "code",
   "execution_count": 9,
   "id": "e5f307bf",
   "metadata": {
    "execution": {
     "iopub.execute_input": "2025-03-11T23:17:29.648356Z",
     "iopub.status.busy": "2025-03-11T23:17:29.647980Z",
     "iopub.status.idle": "2025-03-11T23:17:29.655915Z",
     "shell.execute_reply": "2025-03-11T23:17:29.654793Z"
    },
    "papermill": {
     "duration": 0.016681,
     "end_time": "2025-03-11T23:17:29.657656",
     "exception": false,
     "start_time": "2025-03-11T23:17:29.640975",
     "status": "completed"
    },
    "tags": []
   },
   "outputs": [
    {
     "data": {
      "text/plain": [
       "PassengerId    0\n",
       "Survived       0\n",
       "Pclass         0\n",
       "Name           0\n",
       "Sex            0\n",
       "Age            0\n",
       "SibSp          0\n",
       "Parch          0\n",
       "Ticket         0\n",
       "Fare           0\n",
       "Cabin          0\n",
       "Embarked       0\n",
       "dtype: int64"
      ]
     },
     "execution_count": 9,
     "metadata": {},
     "output_type": "execute_result"
    }
   ],
   "source": [
    "train_data.isna().sum()"
   ]
  },
  {
   "cell_type": "code",
   "execution_count": 10,
   "id": "70bfb291",
   "metadata": {
    "execution": {
     "iopub.execute_input": "2025-03-11T23:17:29.671881Z",
     "iopub.status.busy": "2025-03-11T23:17:29.671513Z",
     "iopub.status.idle": "2025-03-11T23:17:29.696161Z",
     "shell.execute_reply": "2025-03-11T23:17:29.695135Z"
    },
    "papermill": {
     "duration": 0.033533,
     "end_time": "2025-03-11T23:17:29.697817",
     "exception": false,
     "start_time": "2025-03-11T23:17:29.664284",
     "status": "completed"
    },
    "tags": []
   },
   "outputs": [
    {
     "data": {
      "text/html": [
       "<div>\n",
       "<style scoped>\n",
       "    .dataframe tbody tr th:only-of-type {\n",
       "        vertical-align: middle;\n",
       "    }\n",
       "\n",
       "    .dataframe tbody tr th {\n",
       "        vertical-align: top;\n",
       "    }\n",
       "\n",
       "    .dataframe thead th {\n",
       "        text-align: right;\n",
       "    }\n",
       "</style>\n",
       "<table border=\"1\" class=\"dataframe\">\n",
       "  <thead>\n",
       "    <tr style=\"text-align: right;\">\n",
       "      <th></th>\n",
       "      <th>PassengerId</th>\n",
       "      <th>Pclass</th>\n",
       "      <th>Name</th>\n",
       "      <th>Sex</th>\n",
       "      <th>Age</th>\n",
       "      <th>SibSp</th>\n",
       "      <th>Parch</th>\n",
       "      <th>Ticket</th>\n",
       "      <th>Fare</th>\n",
       "      <th>Cabin</th>\n",
       "      <th>Embarked</th>\n",
       "    </tr>\n",
       "  </thead>\n",
       "  <tbody>\n",
       "    <tr>\n",
       "      <th>0</th>\n",
       "      <td>892</td>\n",
       "      <td>3</td>\n",
       "      <td>Kelly, Mr. James</td>\n",
       "      <td>male</td>\n",
       "      <td>34.50000</td>\n",
       "      <td>0</td>\n",
       "      <td>0</td>\n",
       "      <td>330911</td>\n",
       "      <td>7.8292</td>\n",
       "      <td>B57 B59 B63 B66</td>\n",
       "      <td>Q</td>\n",
       "    </tr>\n",
       "    <tr>\n",
       "      <th>1</th>\n",
       "      <td>893</td>\n",
       "      <td>3</td>\n",
       "      <td>Wilkes, Mrs. James (Ellen Needs)</td>\n",
       "      <td>female</td>\n",
       "      <td>47.00000</td>\n",
       "      <td>1</td>\n",
       "      <td>0</td>\n",
       "      <td>363272</td>\n",
       "      <td>7.0000</td>\n",
       "      <td>B57 B59 B63 B66</td>\n",
       "      <td>S</td>\n",
       "    </tr>\n",
       "    <tr>\n",
       "      <th>2</th>\n",
       "      <td>894</td>\n",
       "      <td>2</td>\n",
       "      <td>Myles, Mr. Thomas Francis</td>\n",
       "      <td>male</td>\n",
       "      <td>62.00000</td>\n",
       "      <td>0</td>\n",
       "      <td>0</td>\n",
       "      <td>240276</td>\n",
       "      <td>9.6875</td>\n",
       "      <td>B57 B59 B63 B66</td>\n",
       "      <td>Q</td>\n",
       "    </tr>\n",
       "    <tr>\n",
       "      <th>3</th>\n",
       "      <td>895</td>\n",
       "      <td>3</td>\n",
       "      <td>Wirz, Mr. Albert</td>\n",
       "      <td>male</td>\n",
       "      <td>27.00000</td>\n",
       "      <td>0</td>\n",
       "      <td>0</td>\n",
       "      <td>315154</td>\n",
       "      <td>8.6625</td>\n",
       "      <td>B57 B59 B63 B66</td>\n",
       "      <td>S</td>\n",
       "    </tr>\n",
       "    <tr>\n",
       "      <th>4</th>\n",
       "      <td>896</td>\n",
       "      <td>3</td>\n",
       "      <td>Hirvonen, Mrs. Alexander (Helga E Lindqvist)</td>\n",
       "      <td>female</td>\n",
       "      <td>22.00000</td>\n",
       "      <td>1</td>\n",
       "      <td>1</td>\n",
       "      <td>3101298</td>\n",
       "      <td>12.2875</td>\n",
       "      <td>B57 B59 B63 B66</td>\n",
       "      <td>S</td>\n",
       "    </tr>\n",
       "    <tr>\n",
       "      <th>...</th>\n",
       "      <td>...</td>\n",
       "      <td>...</td>\n",
       "      <td>...</td>\n",
       "      <td>...</td>\n",
       "      <td>...</td>\n",
       "      <td>...</td>\n",
       "      <td>...</td>\n",
       "      <td>...</td>\n",
       "      <td>...</td>\n",
       "      <td>...</td>\n",
       "      <td>...</td>\n",
       "    </tr>\n",
       "    <tr>\n",
       "      <th>413</th>\n",
       "      <td>1305</td>\n",
       "      <td>3</td>\n",
       "      <td>Spector, Mr. Woolf</td>\n",
       "      <td>male</td>\n",
       "      <td>30.27259</td>\n",
       "      <td>0</td>\n",
       "      <td>0</td>\n",
       "      <td>A.5. 3236</td>\n",
       "      <td>8.0500</td>\n",
       "      <td>B57 B59 B63 B66</td>\n",
       "      <td>S</td>\n",
       "    </tr>\n",
       "    <tr>\n",
       "      <th>414</th>\n",
       "      <td>1306</td>\n",
       "      <td>1</td>\n",
       "      <td>Oliva y Ocana, Dona. Fermina</td>\n",
       "      <td>female</td>\n",
       "      <td>39.00000</td>\n",
       "      <td>0</td>\n",
       "      <td>0</td>\n",
       "      <td>PC 17758</td>\n",
       "      <td>108.9000</td>\n",
       "      <td>C105</td>\n",
       "      <td>C</td>\n",
       "    </tr>\n",
       "    <tr>\n",
       "      <th>415</th>\n",
       "      <td>1307</td>\n",
       "      <td>3</td>\n",
       "      <td>Saether, Mr. Simon Sivertsen</td>\n",
       "      <td>male</td>\n",
       "      <td>38.50000</td>\n",
       "      <td>0</td>\n",
       "      <td>0</td>\n",
       "      <td>SOTON/O.Q. 3101262</td>\n",
       "      <td>7.2500</td>\n",
       "      <td>B57 B59 B63 B66</td>\n",
       "      <td>S</td>\n",
       "    </tr>\n",
       "    <tr>\n",
       "      <th>416</th>\n",
       "      <td>1308</td>\n",
       "      <td>3</td>\n",
       "      <td>Ware, Mr. Frederick</td>\n",
       "      <td>male</td>\n",
       "      <td>30.27259</td>\n",
       "      <td>0</td>\n",
       "      <td>0</td>\n",
       "      <td>359309</td>\n",
       "      <td>8.0500</td>\n",
       "      <td>B57 B59 B63 B66</td>\n",
       "      <td>S</td>\n",
       "    </tr>\n",
       "    <tr>\n",
       "      <th>417</th>\n",
       "      <td>1309</td>\n",
       "      <td>3</td>\n",
       "      <td>Peter, Master. Michael J</td>\n",
       "      <td>male</td>\n",
       "      <td>30.27259</td>\n",
       "      <td>1</td>\n",
       "      <td>1</td>\n",
       "      <td>2668</td>\n",
       "      <td>22.3583</td>\n",
       "      <td>B57 B59 B63 B66</td>\n",
       "      <td>C</td>\n",
       "    </tr>\n",
       "  </tbody>\n",
       "</table>\n",
       "<p>418 rows × 11 columns</p>\n",
       "</div>"
      ],
      "text/plain": [
       "     PassengerId  Pclass                                          Name  \\\n",
       "0            892       3                              Kelly, Mr. James   \n",
       "1            893       3              Wilkes, Mrs. James (Ellen Needs)   \n",
       "2            894       2                     Myles, Mr. Thomas Francis   \n",
       "3            895       3                              Wirz, Mr. Albert   \n",
       "4            896       3  Hirvonen, Mrs. Alexander (Helga E Lindqvist)   \n",
       "..           ...     ...                                           ...   \n",
       "413         1305       3                            Spector, Mr. Woolf   \n",
       "414         1306       1                  Oliva y Ocana, Dona. Fermina   \n",
       "415         1307       3                  Saether, Mr. Simon Sivertsen   \n",
       "416         1308       3                           Ware, Mr. Frederick   \n",
       "417         1309       3                      Peter, Master. Michael J   \n",
       "\n",
       "        Sex       Age  SibSp  Parch              Ticket      Fare  \\\n",
       "0      male  34.50000      0      0              330911    7.8292   \n",
       "1    female  47.00000      1      0              363272    7.0000   \n",
       "2      male  62.00000      0      0              240276    9.6875   \n",
       "3      male  27.00000      0      0              315154    8.6625   \n",
       "4    female  22.00000      1      1             3101298   12.2875   \n",
       "..      ...       ...    ...    ...                 ...       ...   \n",
       "413    male  30.27259      0      0           A.5. 3236    8.0500   \n",
       "414  female  39.00000      0      0            PC 17758  108.9000   \n",
       "415    male  38.50000      0      0  SOTON/O.Q. 3101262    7.2500   \n",
       "416    male  30.27259      0      0              359309    8.0500   \n",
       "417    male  30.27259      1      1                2668   22.3583   \n",
       "\n",
       "               Cabin Embarked  \n",
       "0    B57 B59 B63 B66        Q  \n",
       "1    B57 B59 B63 B66        S  \n",
       "2    B57 B59 B63 B66        Q  \n",
       "3    B57 B59 B63 B66        S  \n",
       "4    B57 B59 B63 B66        S  \n",
       "..               ...      ...  \n",
       "413  B57 B59 B63 B66        S  \n",
       "414             C105        C  \n",
       "415  B57 B59 B63 B66        S  \n",
       "416  B57 B59 B63 B66        S  \n",
       "417  B57 B59 B63 B66        C  \n",
       "\n",
       "[418 rows x 11 columns]"
      ]
     },
     "execution_count": 10,
     "metadata": {},
     "output_type": "execute_result"
    }
   ],
   "source": [
    "train_data.duplicated().sum()\n",
    "train_data.drop_duplicates()\n",
    "test_data.duplicated().sum()\n",
    "test_data.drop_duplicates()"
   ]
  },
  {
   "cell_type": "markdown",
   "id": "98d2e1cd",
   "metadata": {
    "papermill": {
     "duration": 0.006412,
     "end_time": "2025-03-11T23:17:29.711975",
     "exception": false,
     "start_time": "2025-03-11T23:17:29.705563",
     "status": "completed"
    },
    "tags": []
   },
   "source": [
    "# **Univariant Analysis**"
   ]
  },
  {
   "cell_type": "code",
   "execution_count": 11,
   "id": "de0a3574",
   "metadata": {
    "execution": {
     "iopub.execute_input": "2025-03-11T23:17:29.727015Z",
     "iopub.status.busy": "2025-03-11T23:17:29.726654Z",
     "iopub.status.idle": "2025-03-11T23:17:29.741837Z",
     "shell.execute_reply": "2025-03-11T23:17:29.740789Z"
    },
    "papermill": {
     "duration": 0.025135,
     "end_time": "2025-03-11T23:17:29.743818",
     "exception": false,
     "start_time": "2025-03-11T23:17:29.718683",
     "status": "completed"
    },
    "tags": []
   },
   "outputs": [],
   "source": [
    "train_data['Pclass'] = train_data['Pclass'].astype('object')\n",
    "test_data['Pclass'] = test_data['Pclass'].astype('object')\n",
    "test_data= test_data.set_index('PassengerId')\n",
    "train_data= train_data.set_index('PassengerId')\n",
    "features_to_drop = ['Name', 'Cabin', 'Ticket']\n",
    "train_data= train_data.drop(columns=features_to_drop)\n",
    "\n",
    "features = train_data.drop(columns=['Survived']).columns\n",
    "target = 'Survived'\n",
    "\n",
    "numerical_cols = train_data[features].select_dtypes(exclude=['object']).columns.tolist()\n",
    "categorical_cols = train_data[features].select_dtypes(include=['object']).columns.tolist()"
   ]
  },
  {
   "cell_type": "code",
   "execution_count": 12,
   "id": "8757d04a",
   "metadata": {
    "execution": {
     "iopub.execute_input": "2025-03-11T23:17:29.759369Z",
     "iopub.status.busy": "2025-03-11T23:17:29.758972Z",
     "iopub.status.idle": "2025-03-11T23:17:31.141102Z",
     "shell.execute_reply": "2025-03-11T23:17:31.140085Z"
    },
    "papermill": {
     "duration": 1.392061,
     "end_time": "2025-03-11T23:17:31.143072",
     "exception": false,
     "start_time": "2025-03-11T23:17:29.751011",
     "status": "completed"
    },
    "tags": []
   },
   "outputs": [
    {
     "name": "stderr",
     "output_type": "stream",
     "text": [
      "/usr/local/lib/python3.10/dist-packages/seaborn/_oldcore.py:1119: FutureWarning: use_inf_as_na option is deprecated and will be removed in a future version. Convert inf values to NaN before operating instead.\n",
      "  with pd.option_context('mode.use_inf_as_na', True):\n",
      "/usr/local/lib/python3.10/dist-packages/seaborn/_oldcore.py:1119: FutureWarning: use_inf_as_na option is deprecated and will be removed in a future version. Convert inf values to NaN before operating instead.\n",
      "  with pd.option_context('mode.use_inf_as_na', True):\n",
      "/usr/local/lib/python3.10/dist-packages/seaborn/_oldcore.py:1119: FutureWarning: use_inf_as_na option is deprecated and will be removed in a future version. Convert inf values to NaN before operating instead.\n",
      "  with pd.option_context('mode.use_inf_as_na', True):\n",
      "/usr/local/lib/python3.10/dist-packages/seaborn/_oldcore.py:1119: FutureWarning: use_inf_as_na option is deprecated and will be removed in a future version. Convert inf values to NaN before operating instead.\n",
      "  with pd.option_context('mode.use_inf_as_na', True):\n"
     ]
    },
    {
     "data": {
      "image/png": "[encoded data removed]",
      "text/plain": [
       "<Figure size 1600x400 with 4 Axes>"
      ]
     },
     "metadata": {},
     "output_type": "display_data"
    }
   ],
   "source": [
    "plt.figure(figsize=(16, 4))\n",
    "for i, col in enumerate(numerical_cols):\n",
    "    plt.subplot(1, len(numerical_cols), i+1)\n",
    "    sns.histplot(train_data[col], kde=True)\n",
    "    \n",
    "plt.tight_layout()"
   ]
  },
  {
   "cell_type": "markdown",
   "id": "f54fab5a",
   "metadata": {
    "papermill": {
     "duration": 0.008515,
     "end_time": "2025-03-11T23:17:31.160061",
     "exception": false,
     "start_time": "2025-03-11T23:17:31.151546",
     "status": "completed"
    },
    "tags": []
   },
   "source": [
    "# **Encoding**"
   ]
  },
  {
   "cell_type": "code",
   "execution_count": 13,
   "id": "a4684bc0",
   "metadata": {
    "execution": {
     "iopub.execute_input": "2025-03-11T23:17:31.177172Z",
     "iopub.status.busy": "2025-03-11T23:17:31.176824Z",
     "iopub.status.idle": "2025-03-11T23:17:31.185926Z",
     "shell.execute_reply": "2025-03-11T23:17:31.184898Z"
    },
    "papermill": {
     "duration": 0.019604,
     "end_time": "2025-03-11T23:17:31.187540",
     "exception": false,
     "start_time": "2025-03-11T23:17:31.167936",
     "status": "completed"
    },
    "tags": []
   },
   "outputs": [],
   "source": [
    "train_data['Sex'] = train_data['Sex'].map({'male': 0, 'female': 1})\n",
    "train_data['Embarked'] = train_data['Embarked'].map({'C': 0, 'Q': 1, 'S': 2})\n",
    "test_data['Sex'] = test_data['Sex'].map({'male': 0, 'female': 1})\n",
    "test_data['Embarked'] = test_data['Embarked'].map({'C': 0, 'Q': 1, 'S': 2})"
   ]
  },
  {
   "cell_type": "markdown",
   "id": "de2acaf7",
   "metadata": {
    "papermill": {
     "duration": 0.00773,
     "end_time": "2025-03-11T23:17:31.203401",
     "exception": false,
     "start_time": "2025-03-11T23:17:31.195671",
     "status": "completed"
    },
    "tags": []
   },
   "source": [
    "# **Model Comparison**"
   ]
  },
  {
   "cell_type": "code",
   "execution_count": 14,
   "id": "edae621b",
   "metadata": {
    "execution": {
     "iopub.execute_input": "2025-03-11T23:17:31.220724Z",
     "iopub.status.busy": "2025-03-11T23:17:31.220369Z",
     "iopub.status.idle": "2025-03-11T23:17:31.225708Z",
     "shell.execute_reply": "2025-03-11T23:17:31.224760Z"
    },
    "papermill": {
     "duration": 0.015852,
     "end_time": "2025-03-11T23:17:31.227278",
     "exception": false,
     "start_time": "2025-03-11T23:17:31.211426",
     "status": "completed"
    },
    "tags": []
   },
   "outputs": [],
   "source": [
    "X= train_data.drop(columns=['Survived'])\n",
    "Y= train_data['Survived']"
   ]
  },
  {
   "cell_type": "code",
   "execution_count": 15,
   "id": "d87097c5",
   "metadata": {
    "execution": {
     "iopub.execute_input": "2025-03-11T23:17:31.244750Z",
     "iopub.status.busy": "2025-03-11T23:17:31.244395Z",
     "iopub.status.idle": "2025-03-11T23:17:31.251746Z",
     "shell.execute_reply": "2025-03-11T23:17:31.250844Z"
    },
    "papermill": {
     "duration": 0.018159,
     "end_time": "2025-03-11T23:17:31.253627",
     "exception": false,
     "start_time": "2025-03-11T23:17:31.235468",
     "status": "completed"
    },
    "tags": []
   },
   "outputs": [],
   "source": [
    "X_train, X_valid, Y_train, Y_valid = train_test_split(X,Y, test_size= 0.2, random_state=43, stratify= Y)"
   ]
  },
  {
   "cell_type": "code",
   "execution_count": 16,
   "id": "0d4cd6ed",
   "metadata": {
    "execution": {
     "iopub.execute_input": "2025-03-11T23:17:31.271124Z",
     "iopub.status.busy": "2025-03-11T23:17:31.270787Z",
     "iopub.status.idle": "2025-03-11T23:17:31.275740Z",
     "shell.execute_reply": "2025-03-11T23:17:31.274700Z"
    },
    "papermill": {
     "duration": 0.015822,
     "end_time": "2025-03-11T23:17:31.277548",
     "exception": false,
     "start_time": "2025-03-11T23:17:31.261726",
     "status": "completed"
    },
    "tags": []
   },
   "outputs": [],
   "source": [
    "models= {\n",
    "    \"Logistic Regression\": LogisticRegression(max_iter= 200),\n",
    "    \"Random Forest\": RandomForestClassifier(n_estimators=100, random_state= 43),\n",
    "    \"Gradient Boosting\": GradientBoostingClassifier(n_estimators= 100, random_state= 43),\n",
    "    \"SVC\": SVC(),\n",
    "    \"Hist Gradient Boosting\": HistGradientBoostingClassifier(random_state= 43),\n",
    "    \"KNN\": KNeighborsClassifier(n_neighbors=5),\n",
    "    \"Decision Tree\": DecisionTreeClassifier(random_state= 43),\n",
    "    \"Naive Bayes\": GaussianNB()\n",
    "}"
   ]
  },
  {
   "cell_type": "code",
   "execution_count": 17,
   "id": "c5a7a6ab",
   "metadata": {
    "execution": {
     "iopub.execute_input": "2025-03-11T23:17:31.295074Z",
     "iopub.status.busy": "2025-03-11T23:17:31.294737Z",
     "iopub.status.idle": "2025-03-11T23:17:32.022886Z",
     "shell.execute_reply": "2025-03-11T23:17:32.021728Z"
    },
    "papermill": {
     "duration": 0.738907,
     "end_time": "2025-03-11T23:17:32.024685",
     "exception": false,
     "start_time": "2025-03-11T23:17:31.285778",
     "status": "completed"
    },
    "tags": []
   },
   "outputs": [
    {
     "name": "stdout",
     "output_type": "stream",
     "text": [
      "Logistic Regression: Accuracy = 0.8212\n",
      "Random Forest: Accuracy = 0.8045\n",
      "Gradient Boosting: Accuracy = 0.8268\n",
      "SVC: Accuracy = 0.7318\n",
      "Hist Gradient Boosting: Accuracy = 0.8156\n",
      "KNN: Accuracy = 0.7318\n",
      "Decision Tree: Accuracy = 0.7821\n",
      "Naive Bayes: Accuracy = 0.8268\n"
     ]
    }
   ],
   "source": [
    "accuracy_results = {}\n",
    "for name, model in models.items():\n",
    "    model.fit(X_train, Y_train)\n",
    "    y_pred= model.predict(X_valid)\n",
    "    accuracy= accuracy_score(Y_valid,y_pred)\n",
    "    accuracy_results[name]= accuracy\n",
    "    print(f\"{name}: Accuracy = {accuracy:.4f}\")"
   ]
  },
  {
   "cell_type": "markdown",
   "id": "10ec509a",
   "metadata": {
    "papermill": {
     "duration": 0.008026,
     "end_time": "2025-03-11T23:17:32.041359",
     "exception": false,
     "start_time": "2025-03-11T23:17:32.033333",
     "status": "completed"
    },
    "tags": []
   },
   "source": [
    "# **Prediction**"
   ]
  },
  {
   "cell_type": "code",
   "execution_count": 18,
   "id": "c31df8b1",
   "metadata": {
    "execution": {
     "iopub.execute_input": "2025-03-11T23:17:32.059129Z",
     "iopub.status.busy": "2025-03-11T23:17:32.058780Z",
     "iopub.status.idle": "2025-03-11T23:17:32.074052Z",
     "shell.execute_reply": "2025-03-11T23:17:32.072937Z"
    },
    "papermill": {
     "duration": 0.026274,
     "end_time": "2025-03-11T23:17:32.075892",
     "exception": false,
     "start_time": "2025-03-11T23:17:32.049618",
     "status": "completed"
    },
    "tags": []
   },
   "outputs": [
    {
     "data": {
      "text/html": [
       "<style>#sk-container-id-1 {color: black;background-color: white;}#sk-container-id-1 pre{padding: 0;}#sk-container-id-1 div.sk-toggleable {background-color: white;}#sk-container-id-1 label.sk-toggleable__label {cursor: pointer;display: block;width: 100%;margin-bottom: 0;padding: 0.3em;box-sizing: border-box;text-align: center;}#sk-container-id-1 label.sk-toggleable__label-arrow:before {content: \"▸\";float: left;margin-right: 0.25em;color: #696969;}#sk-container-id-1 label.sk-toggleable__label-arrow:hover:before {color: black;}#sk-container-id-1 div.sk-estimator:hover label.sk-toggleable__label-arrow:before {color: black;}#sk-container-id-1 div.sk-toggleable__content {max-height: 0;max-width: 0;overflow: hidden;text-align: left;background-color: #f0f8ff;}#sk-container-id-1 div.sk-toggleable__content pre {margin: 0.2em;color: black;border-radius: 0.25em;background-color: #f0f8ff;}#sk-container-id-1 input.sk-toggleable__control:checked~div.sk-toggleable__content {max-height: 200px;max-width: 100%;overflow: auto;}#sk-container-id-1 input.sk-toggleable__control:checked~label.sk-toggleable__label-arrow:before {content: \"▾\";}#sk-container-id-1 div.sk-estimator input.sk-toggleable__control:checked~label.sk-toggleable__label {background-color: #d4ebff;}#sk-container-id-1 div.sk-label input.sk-toggleable__control:checked~label.sk-toggleable__label {background-color: #d4ebff;}#sk-container-id-1 input.sk-hidden--visually {border: 0;clip: rect(1px 1px 1px 1px);clip: rect(1px, 1px, 1px, 1px);height: 1px;margin: -1px;overflow: hidden;padding: 0;position: absolute;width: 1px;}#sk-container-id-1 div.sk-estimator {font-family: monospace;background-color: #f0f8ff;border: 1px dotted black;border-radius: 0.25em;box-sizing: border-box;margin-bottom: 0.5em;}#sk-container-id-1 div.sk-estimator:hover {background-color: #d4ebff;}#sk-container-id-1 div.sk-parallel-item::after {content: \"\";width: 100%;border-bottom: 1px solid gray;flex-grow: 1;}#sk-container-id-1 div.sk-label:hover label.sk-toggleable__label {background-color: #d4ebff;}#sk-container-id-1 div.sk-serial::before {content: \"\";position: absolute;border-left: 1px solid gray;box-sizing: border-box;top: 0;bottom: 0;left: 50%;z-index: 0;}#sk-container-id-1 div.sk-serial {display: flex;flex-direction: column;align-items: center;background-color: white;padding-right: 0.2em;padding-left: 0.2em;position: relative;}#sk-container-id-1 div.sk-item {position: relative;z-index: 1;}#sk-container-id-1 div.sk-parallel {display: flex;align-items: stretch;justify-content: center;background-color: white;position: relative;}#sk-container-id-1 div.sk-item::before, #sk-container-id-1 div.sk-parallel-item::before {content: \"\";position: absolute;border-left: 1px solid gray;box-sizing: border-box;top: 0;bottom: 0;left: 50%;z-index: -1;}#sk-container-id-1 div.sk-parallel-item {display: flex;flex-direction: column;z-index: 1;position: relative;background-color: white;}#sk-container-id-1 div.sk-parallel-item:first-child::after {align-self: flex-end;width: 50%;}#sk-container-id-1 div.sk-parallel-item:last-child::after {align-self: flex-start;width: 50%;}#sk-container-id-1 div.sk-parallel-item:only-child::after {width: 0;}#sk-container-id-1 div.sk-dashed-wrapped {border: 1px dashed gray;margin: 0 0.4em 0.5em 0.4em;box-sizing: border-box;padding-bottom: 0.4em;background-color: white;}#sk-container-id-1 div.sk-label label {font-family: monospace;font-weight: bold;display: inline-block;line-height: 1.2em;}#sk-container-id-1 div.sk-label-container {text-align: center;}#sk-container-id-1 div.sk-container {/* jupyter's `normalize.less` sets `[hidden] { display: none; }` but bootstrap.min.css set `[hidden] { display: none !important; }` so we also need the `!important` here to be able to override the default hidden behavior on the sphinx rendered scikit-learn.org. See: https://github.com/scikit-learn/scikit-learn/issues/21755 */display: inline-block !important;position: relative;}#sk-container-id-1 div.sk-text-repr-fallback {display: none;}</style><div id=\"sk-container-id-1\" class=\"sk-top-container\"><div class=\"sk-text-repr-fallback\"><pre>GaussianNB()</pre><b>In a Jupyter environment, please rerun this cell to show the HTML representation or trust the notebook. <br />On GitHub, the HTML representation is unable to render, please try loading this page with nbviewer.org.</b></div><div class=\"sk-container\" hidden><div class=\"sk-item\"><div class=\"sk-estimator sk-toggleable\"><input class=\"sk-toggleable__control sk-hidden--visually\" id=\"sk-estimator-id-1\" type=\"checkbox\" checked><label for=\"sk-estimator-id-1\" class=\"sk-toggleable__label sk-toggleable__label-arrow\">GaussianNB</label><div class=\"sk-toggleable__content\"><pre>GaussianNB()</pre></div></div></div></div></div>"
      ],
      "text/plain": [
       "GaussianNB()"
      ]
     },
     "execution_count": 18,
     "metadata": {},
     "output_type": "execute_result"
    }
   ],
   "source": [
    "nb_model = GaussianNB()\n",
    "nb_model.fit(X_train, Y_train)"
   ]
  },
  {
   "cell_type": "code",
   "execution_count": 19,
   "id": "378a9afe",
   "metadata": {
    "execution": {
     "iopub.execute_input": "2025-03-11T23:17:32.094469Z",
     "iopub.status.busy": "2025-03-11T23:17:32.094060Z",
     "iopub.status.idle": "2025-03-11T23:17:32.104000Z",
     "shell.execute_reply": "2025-03-11T23:17:32.102993Z"
    },
    "papermill": {
     "duration": 0.021221,
     "end_time": "2025-03-11T23:17:32.105880",
     "exception": false,
     "start_time": "2025-03-11T23:17:32.084659",
     "status": "completed"
    },
    "tags": []
   },
   "outputs": [],
   "source": [
    "y_valid_pred = nb_model.predict(X_valid)\n",
    "X_test = test_data[['Pclass', 'Sex', 'Age', 'SibSp', 'Parch', 'Fare', 'Embarked']]\n",
    "y_test_pred = nb_model.predict(X_test)"
   ]
  },
  {
   "cell_type": "markdown",
   "id": "a53efa2d",
   "metadata": {
    "papermill": {
     "duration": 0.008171,
     "end_time": "2025-03-11T23:17:32.122718",
     "exception": false,
     "start_time": "2025-03-11T23:17:32.114547",
     "status": "completed"
    },
    "tags": []
   },
   "source": [
    "# **Evaluation Confusion Matrix**"
   ]
  },
  {
   "cell_type": "code",
   "execution_count": 20,
   "id": "ad0f9a85",
   "metadata": {
    "execution": {
     "iopub.execute_input": "2025-03-11T23:17:32.140815Z",
     "iopub.status.busy": "2025-03-11T23:17:32.140478Z",
     "iopub.status.idle": "2025-03-11T23:17:32.354133Z",
     "shell.execute_reply": "2025-03-11T23:17:32.352856Z"
    },
    "papermill": {
     "duration": 0.22496,
     "end_time": "2025-03-11T23:17:32.355978",
     "exception": false,
     "start_time": "2025-03-11T23:17:32.131018",
     "status": "completed"
    },
    "tags": []
   },
   "outputs": [
    {
     "data": {
      "image/png": "[encoded data removed]",
      "text/plain": [
       "<Figure size 600x400 with 2 Axes>"
      ]
     },
     "metadata": {},
     "output_type": "display_data"
    }
   ],
   "source": [
    "\n",
    "cm = confusion_matrix(Y_valid, y_valid_pred)\n",
    "plt.figure(figsize=(6, 4))\n",
    "sns.heatmap(cm, annot=True, fmt=\"d\", cmap=\"Blues\", xticklabels=['Not Survived', 'Survived'], yticklabels=['Not Survived', 'Survived'])\n",
    "plt.xlabel(\"Predicted Label\")\n",
    "plt.ylabel(\"True Label\")\n",
    "plt.title(\"Confusion Matrix - Naive Bayes\")\n",
    "plt.show()\n"
   ]
  },
  {
   "cell_type": "code",
   "execution_count": 21,
   "id": "669a34e0",
   "metadata": {
    "execution": {
     "iopub.execute_input": "2025-03-11T23:17:32.376408Z",
     "iopub.status.busy": "2025-03-11T23:17:32.376022Z",
     "iopub.status.idle": "2025-03-11T23:17:32.381904Z",
     "shell.execute_reply": "2025-03-11T23:17:32.380688Z"
    },
    "papermill": {
     "duration": 0.017787,
     "end_time": "2025-03-11T23:17:32.383644",
     "exception": false,
     "start_time": "2025-03-11T23:17:32.365857",
     "status": "completed"
    },
    "tags": []
   },
   "outputs": [
    {
     "name": "stdout",
     "output_type": "stream",
     "text": [
      "Naive Bayes Validation Accuracy: 0.8268\n"
     ]
    }
   ],
   "source": [
    "accuracy = accuracy_score(Y_valid, y_valid_pred)\n",
    "print(f\"Naive Bayes Validation Accuracy: {accuracy:.4f}\")"
   ]
  }
 ],
 "metadata": {
  "kaggle": {
   "accelerator": "none",
   "dataSources": [
    {
     "databundleVersionId": 26502,
     "sourceId": 3136,
     "sourceType": "competition"
    }
   ],
   "dockerImageVersionId": 30918,
   "isGpuEnabled": false,
   "isInternetEnabled": true,
   "language": "python",
   "sourceType": "notebook"
  },
  "kernelspec": {
   "display_name": "Python 3",
   "language": "python",
   "name": "python3"
  },
  "language_info": {
   "codemirror_mode": {
    "name": "ipython",
    "version": 3
   },
   "file_extension": ".py",
   "mimetype": "text/x-python",
   "name": "python",
   "nbconvert_exporter": "python",
   "pygments_lexer": "ipython3",
   "version": "3.10.12"
  },
  "papermill": {
   "default_parameters": {},
   "duration": 10.018129,
   "end_time": "2025-03-11T23:17:33.113143",
   "environment_variables": {},
   "exception": null,
   "input_path": "__notebook__.ipynb",
   "output_path": "__notebook__.ipynb",
   "parameters": {},
   "start_time": "2025-03-11T23:17:23.095014",
   "version": "2.6.0"
  }
 },
 "nbformat": 4,
 "nbformat_minor": 5
}
